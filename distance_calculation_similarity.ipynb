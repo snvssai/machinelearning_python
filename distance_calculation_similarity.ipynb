{
 "cells": [
  {
   "cell_type": "code",
   "execution_count": 1,
   "metadata": {},
   "outputs": [
    {
     "name": "stdout",
     "output_type": "stream",
     "text": [
      "0.354\n",
      "0.367\n",
      "0.397\n",
      "0.664\n"
     ]
    }
   ],
   "source": [
    "# Python3 program to find Minkowski distance\n",
    " \n",
    "# import math library\n",
    "from math import *\n",
    "from decimal import Decimal\n",
    " \n",
    "# Function distance between two points\n",
    "# and calculate distance value to given\n",
    "# root value(p is root value)\n",
    "def p_root(value, root):\n",
    "     \n",
    "    root_value = 1 / float(root)\n",
    "    return round (Decimal(value) **\n",
    "             Decimal(root_value), 3)\n",
    " \n",
    "def minkowski_distance(x, y, p_value):\n",
    "     \n",
    "    # pass the p_root function to calculate\n",
    "    # all the value of vector parallelly\n",
    "    return (p_root(sum(pow(abs(a-b), p_value)\n",
    "            for a, b in zip(x, y)), p_value))\n",
    " \n",
    "# Driver Code\n",
    "vector0 = [0, 0]\n",
    "vector1 = [0.25, 0.25]\n",
    "vector2 = [0.5, 0.5]\n",
    "vector3 = [0.67, 0.67]\n",
    "\n",
    "p_values = [2,1.8,1.5,0.71]\n",
    "\n",
    "print(minkowski_distance(vector0, vector1, p_values[0]))\n",
    "print(minkowski_distance(vector0, vector1, p_values[1]))\n",
    "print(minkowski_distance(vector0, vector1, p_values[2]))\n",
    "print(minkowski_distance(vector0, vector1, p_values[3]))"
   ]
  },
  {
   "cell_type": "code",
   "execution_count": 2,
   "metadata": {},
   "outputs": [
    {
     "name": "stdout",
     "output_type": "stream",
     "text": [
      "0.707\n",
      "0.735\n",
      "0.794\n",
      "1.327\n"
     ]
    }
   ],
   "source": [
    "print(minkowski_distance(vector0, vector2, p_values[0]))\n",
    "print(minkowski_distance(vector0, vector2, p_values[1]))\n",
    "print(minkowski_distance(vector0, vector2, p_values[2]))\n",
    "print(minkowski_distance(vector0, vector2, p_values[3]))"
   ]
  },
  {
   "cell_type": "code",
   "execution_count": 3,
   "metadata": {},
   "outputs": [
    {
     "name": "stdout",
     "output_type": "stream",
     "text": [
      "0.948\n",
      "0.985\n",
      "1.064\n",
      "1.779\n"
     ]
    }
   ],
   "source": [
    "print(minkowski_distance(vector0, vector3, p_values[0]))\n",
    "print(minkowski_distance(vector0, vector3, p_values[1]))\n",
    "print(minkowski_distance(vector0, vector3, p_values[2]))\n",
    "print(minkowski_distance(vector0, vector3, p_values[3]))"
   ]
  },
  {
   "cell_type": "code",
   "execution_count": 4,
   "metadata": {},
   "outputs": [
    {
     "name": "stdout",
     "output_type": "stream",
     "text": [
      "7.250\n",
      "5.483\n"
     ]
    }
   ],
   "source": [
    "vector0 = [5, 2.5]\n",
    "vector1 = [2.75, 7.5]\n",
    "vector2 = [5.25, 9.5]\n",
    "\n",
    "\n",
    "p_values = [1,2]\n",
    "\n",
    "print(minkowski_distance(vector0, vector1, p_values[0]))\n",
    "print(minkowski_distance(vector0, vector1, p_values[1]))\n"
   ]
  },
  {
   "cell_type": "code",
   "execution_count": 5,
   "metadata": {},
   "outputs": [
    {
     "name": "stdout",
     "output_type": "stream",
     "text": [
      "7.250\n",
      "7.004\n"
     ]
    }
   ],
   "source": [
    "print(minkowski_distance(vector0, vector2, p_values[0]))\n",
    "print(minkowski_distance(vector0, vector2, p_values[1]))\n"
   ]
  },
  {
   "cell_type": "code",
   "execution_count": 19,
   "metadata": {},
   "outputs": [
    {
     "data": {
      "text/plain": [
       "0.6942554552915061"
      ]
     },
     "execution_count": 19,
     "metadata": {},
     "output_type": "execute_result"
    }
   ],
   "source": [
    "\n",
    "from scipy import spatial \n",
    "#d1 = [1,1,1,0,1]\n",
    "#d2 = [1,0,0,0,0]\n",
    "#q = [1,0,1,0,0]\n",
    "\n",
    "d1 = [97,21]\n",
    "d2 = [18,184]\n",
    "\n",
    "d1_d2 = spatial.distance.cosine(d1,d2)\n",
    "d1_d2"
   ]
  },
  {
   "cell_type": "code",
   "execution_count": null,
   "metadata": {},
   "outputs": [],
   "source": []
  }
 ],
 "metadata": {
  "kernelspec": {
   "display_name": "Python 3",
   "language": "python",
   "name": "python3"
  },
  "language_info": {
   "codemirror_mode": {
    "name": "ipython",
    "version": 3
   },
   "file_extension": ".py",
   "mimetype": "text/x-python",
   "name": "python",
   "nbconvert_exporter": "python",
   "pygments_lexer": "ipython3",
   "version": "3.8.5"
  }
 },
 "nbformat": 4,
 "nbformat_minor": 4
}
